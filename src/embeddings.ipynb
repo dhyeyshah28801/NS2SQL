{
 "cells": [
  {
   "cell_type": "code",
   "execution_count": 1,
   "metadata": {},
   "outputs": [
    {
     "name": "stderr",
     "output_type": "stream",
     "text": [
      "C:\\Users\\shind\\AppData\\Local\\Packages\\PythonSoftwareFoundation.Python.3.12_qbz5n2kfra8p0\\LocalCache\\local-packages\\Python312\\site-packages\\pinecone\\data\\index.py:1: TqdmWarning: IProgress not found. Please update jupyter and ipywidgets. See https://ipywidgets.readthedocs.io/en/stable/user_install.html\n",
      "  from tqdm.autonotebook import tqdm\n"
     ]
    }
   ],
   "source": [
    "from pinecone.grpc import PineconeGRPC as Pinecone\n",
    "from pinecone import ServerlessSpec"
   ]
  },
  {
   "cell_type": "code",
   "execution_count": 2,
   "metadata": {},
   "outputs": [],
   "source": [
    "pc = Pinecone(api_key=\"pcsk_uQZa5_6sh7ivL9LdoTKHrz5BKiyan8VcR9QUfeB1R8eBnVj2nPnnpGJwJToBMW3BT2Dnb\")"
   ]
  },
  {
   "cell_type": "code",
   "execution_count": 3,
   "metadata": {},
   "outputs": [],
   "source": [
    "data = [\n",
    "    {\"id\": \"vec1\", \"text\": \"Table: author; Columns: aid, homepage, name, oid;\"},\n",
    "    {\"id\": \"vec2\", \"text\": \"Table: conference; Columns: cid, homepage, name;\"},\n",
    "    {\"id\": \"vec3\", \"text\": \"Table: domain; Columns: did, name;\"},\n",
    "    {\"id\": \"vec4\", \"text\": \"Table: domain_author; Columns: aid, did;\"},\n",
    "    {\"id\": \"vec5\", \"text\": \"Table: domain_conference; Columns: cid, did;\"},\n",
    "    {\"id\": \"vec6\", \"text\": \"Table: journal; Columns: homepage, jid, name;\"},\n",
    "    {\"id\": \"vec7\", \"text\": \"Table: domain_journal; Columns: did, jid;\"},\n",
    "    {\"id\": \"vec8\", \"text\": \"Table: keyword; Columns: keyword, kid;\"},\n",
    "    {\"id\": \"vec9\", \"text\": \"Table: domain_keyword; Columns: did, kid;\"},\n",
    "    {\"id\": \"vec10\", \"text\": \"Table: publication; Columns: abstract, cid, citation_num, jid, pid, reference_num, title, year;\"},\n",
    "    {\"id\": \"vec11\", \"text\": \"Table: domain_publication; Columns: did, pid;\"},\n",
    "    {\"id\": \"vec12\", \"text\": \"Table: organization; Columns: continent, homepage, name, oid;\"},\n",
    "    {\"id\": \"vec13\", \"text\": \"Table: publication_keyword; Columns: pid, kid;\"},\n",
    "    {\"id\": \"vec14\", \"text\": \"Table: writes; Columns: aid, pid;\"},\n",
    "    {\"id\": \"vec15\", \"text\": \"Table: cite; Columns: cited, citing;\"}\n",
    "]\n",
    "\n"
   ]
  },
  {
   "cell_type": "code",
   "execution_count": 9,
   "metadata": {},
   "outputs": [],
   "source": [
    "data += [\n",
    "    {\"id\": \"vec16\", \"text\": \"Table: Activity; Columns: actid, activity_name;\"},\n",
    "    {\"id\": \"vec17\", \"text\": \"Table: Participates_in; Columns: stuid, actid;\"},\n",
    "    {\"id\": \"vec18\", \"text\": \"Table: Faculty_Participates_in; Columns: FacID, actid;\"},\n",
    "    {\"id\": \"vec19\", \"text\": \"Table: Student; Columns: StuID, LName, FName, Age, Sex, Major, Advisor, city_code;\"},\n",
    "    {\"id\": \"vec20\", \"text\": \"Table: Faculty; Columns: FacID, LName, FName, Rank, Sex, Phone, Room, Building;\"}\n",
    "]"
   ]
  },
  {
   "cell_type": "code",
   "execution_count": 10,
   "metadata": {},
   "outputs": [],
   "source": [
    "data += [\n",
    "    {\"id\": \"vec21\", \"text\": \"Table: Student; Columns: StuID, LName, Fname, Age, Sex, Major, Advisor, city_code;\"},\n",
    "    {\"id\": \"vec22\", \"text\": \"Table: Direct_distance; Columns: city1_code, city2_code, distance;\"},\n",
    "    {\"id\": \"vec23\", \"text\": \"Table: City; Columns: city_code, city_name, state, country, latitude, longitude;\"}\n",
    "]\n"
   ]
  },
  {
   "cell_type": "code",
   "execution_count": 11,
   "metadata": {},
   "outputs": [],
   "source": [
    "data += [\n",
    "    {\"id\": \"vec24\", \"text\": \"Table: City; Columns: city_code, city_name, state, country, latitude, longitude;\"},\n",
    "    {\"id\": \"vec25\", \"text\": \"Table: University; Columns: uni_code, uni_name, city_code, state, country;\"},\n",
    "    {\"id\": \"vec26\", \"text\": \"Table: Course; Columns: course_code, course_name, credits, department, uni_code;\"},\n",
    "    {\"id\": \"vec27\", \"text\": \"Table: Enrollment; Columns: enroll_id, StuID, course_code, semester, year, grade;\"},\n",
    "    {\"id\": \"vec28\", \"text\": \"Table: Department; Columns: dept_code, dept_name, uni_code, chairperson;\"}\n",
    "]\n"
   ]
  },
  {
   "cell_type": "code",
   "execution_count": 16,
   "metadata": {},
   "outputs": [],
   "source": [
    "embeddings = pc.inference.embed(\n",
    "    model=\"multilingual-e5-large\",\n",
    "    inputs=[d['text'] for d in data],\n",
    "    parameters={\"input_type\": \"passage\", \"truncate\": \"END\"}\n",
    ")"
   ]
  },
  {
   "cell_type": "code",
   "execution_count": 17,
   "metadata": {},
   "outputs": [
    {
     "data": {
      "text/plain": [
       "upserted_count: 28"
      ]
     },
     "execution_count": 17,
     "metadata": {},
     "output_type": "execute_result"
    }
   ],
   "source": [
    "index = pc.Index(\"schema\")\n",
    "\n",
    "records = []\n",
    "for d, e in zip(data, embeddings):\n",
    "    records.append({\n",
    "        \"id\": d['id'],\n",
    "        \"values\": e['values'],\n",
    "        \"metadata\": {'text': d['text']}\n",
    "    })\n",
    "\n",
    "index.upsert(\n",
    "    vectors=records,\n",
    "    namespace=\"example-namespace\"\n",
    ")\n"
   ]
  },
  {
   "cell_type": "code",
   "execution_count": 15,
   "metadata": {},
   "outputs": [
    {
     "data": {
      "text/plain": [
       "15"
      ]
     },
     "execution_count": 15,
     "metadata": {},
     "output_type": "execute_result"
    }
   ],
   "source": [
    "len(records)"
   ]
  },
  {
   "cell_type": "code",
   "execution_count": 13,
   "metadata": {},
   "outputs": [
    {
     "name": "stdout",
     "output_type": "stream",
     "text": [
      "{'matches': [{'id': 'vec7',\n",
      "              'metadata': {'text': 'Table: domain_journal; Columns: did, jid;'},\n",
      "              'score': 0.7661627,\n",
      "              'sparse_values': {'indices': [], 'values': []},\n",
      "              'values': []},\n",
      "             {'id': 'vec6',\n",
      "              'metadata': {'text': 'Table: journal; Columns: homepage, jid, '\n",
      "                                   'name;'},\n",
      "              'score': 0.76058525,\n",
      "              'sparse_values': {'indices': [], 'values': []},\n",
      "              'values': []},\n",
      "             {'id': 'vec10',\n",
      "              'metadata': {'text': 'Table: publication; Columns: abstract, '\n",
      "                                   'cid, citation_num, jid, pid, '\n",
      "                                   'reference_num, title, year;'},\n",
      "              'score': 0.7589219,\n",
      "              'sparse_values': {'indices': [], 'values': []},\n",
      "              'values': []}],\n",
      " 'namespace': 'example-namespace',\n",
      " 'usage': {'read_units': 6}}\n"
     ]
    }
   ],
   "source": [
    "query = \"What is domain of journal with name IEEE?\"\n",
    "\n",
    "# Convert the query into a numerical vector that Pinecone can search with\n",
    "query_embedding = pc.inference.embed(\n",
    "    model=\"multilingual-e5-large\",\n",
    "    inputs=[query],\n",
    "    parameters={\n",
    "        \"input_type\": \"query\"\n",
    "    }\n",
    ")\n",
    "\n",
    "# Search the index for the three most similar vectors\n",
    "results = index.query(\n",
    "    namespace=\"example-namespace\",\n",
    "    vector=query_embedding[0].values,\n",
    "    top_k=3,\n",
    "    include_values=False,\n",
    "    include_metadata=True\n",
    ")\n",
    "\n",
    "print(results)"
   ]
  },
  {
   "cell_type": "code",
   "execution_count": 19,
   "metadata": {},
   "outputs": [
    {
     "data": {
      "text/plain": [
       "'Table: domain_journal; Columns: did, jid;'"
      ]
     },
     "execution_count": 19,
     "metadata": {},
     "output_type": "execute_result"
    }
   ],
   "source": [
    "results['matches'][0]['metadata']['text']"
   ]
  },
  {
   "cell_type": "code",
   "execution_count": null,
   "metadata": {},
   "outputs": [],
   "source": []
  }
 ],
 "metadata": {
  "kernelspec": {
   "display_name": "Python 3",
   "language": "python",
   "name": "python3"
  },
  "language_info": {
   "codemirror_mode": {
    "name": "ipython",
    "version": 3
   },
   "file_extension": ".py",
   "mimetype": "text/x-python",
   "name": "python",
   "nbconvert_exporter": "python",
   "pygments_lexer": "ipython3",
   "version": "3.12.7"
  }
 },
 "nbformat": 4,
 "nbformat_minor": 2
}
